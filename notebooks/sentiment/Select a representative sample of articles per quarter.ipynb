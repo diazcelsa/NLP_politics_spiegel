{
 "cells": [
  {
   "cell_type": "markdown",
   "metadata": {},
   "source": [
    "# Select a representative sample of articles per quarter\n",
    "\n",
    "Our goal is to extract the sentiment of the articles over time to analyze whether or not there has been a variation on the way that migration topic has been addressed by Der Spiegel in the last years.\n",
    "\n",
    "For this aim we will use a pre-trained LSTM model. However, it takes some time on predicting the sentiment of long texts (sentiment prediction of text with 642 words took half an hour in a 4 cores MacBook Air). Therefore, we are going to remove articles with more than 700 words and we will take a representation of each quarter with 30 articles.\n",
    "\n",
    "Due to the lack of labeled training datasets in german and, therefore, lack of robusst pre-trained sentiment models we will translate selected articles to english through the Google Translate API and apply existing models to the result."
   ]
  },
  {
   "cell_type": "code",
   "execution_count": 1,
   "metadata": {},
   "outputs": [],
   "source": [
    "import sys\n",
    "import pandas as pd\n",
    "import numpy as np\n",
    "import seaborn as sns\n",
    "import matplotlib.pyplot as plt\n",
    "sys.path.append(\"../..\")\n",
    "from src.helpers import assign_quarter_labels, get_quarter_boundaries\n",
    "from src.translator import extract_n_articles_and_translate, google_translator\n",
    "import warnings\n",
    "warnings.filterwarnings('ignore')\n",
    "%matplotlib inline\n",
    "%load_ext autoreload\n",
    "%autoreload 2"
   ]
  },
  {
   "cell_type": "code",
   "execution_count": 5,
   "metadata": {},
   "outputs": [],
   "source": [
    "# Use the German stopwords.\n",
    "stpwrds = stopwords.words(\"german\")\n",
    "\n",
    "# We added some additional characters to avoid.\n",
    "characters = [',', '.', '(', ')', '!', ';', '-', ':', '...', '\"',\n",
    "                \"''\", \"``\", '~http', '?', '@', '#', '/', \"'\",\n",
    "                '&', '--', '[', ']', '=', '||', '+', '_', '..',\n",
    "                '%', '|', '~', 'http',\"\\n\",\"—\",\"•\",\"“\",\"„\",\"–\",\n",
    "                \"في\",\"שראל\",\"россии\",\"не\",\"минобороны\",\"и\",\"в\",\n",
    "                \"את\", \"$\",\">\",\"*\"]\n",
    "\n",
    "# Selection of articles parameters\n",
    "# number of top articles with higher frequencies on key words for selecting the final ones\n",
    "n_pre_selected = 75\n",
    "n_articles = 30\n",
    "language = 'en'"
   ]
  },
  {
   "cell_type": "code",
   "execution_count": 8,
   "metadata": {},
   "outputs": [],
   "source": [
    "# Load selected articles about migration\n",
    "articles = pd.read_csv(\"../../data/migration_articles.csv\")\n",
    "articles.date = articles['date'].apply(lambda x: datetime.datetime.strptime(x, \"%Y-%m-%d\"))"
   ]
  },
  {
   "cell_type": "code",
   "execution_count": 9,
   "metadata": {},
   "outputs": [
    {
     "data": {
      "text/html": [
       "<div>\n",
       "<style scoped>\n",
       "    .dataframe tbody tr th:only-of-type {\n",
       "        vertical-align: middle;\n",
       "    }\n",
       "\n",
       "    .dataframe tbody tr th {\n",
       "        vertical-align: top;\n",
       "    }\n",
       "\n",
       "    .dataframe thead th {\n",
       "        text-align: right;\n",
       "    }\n",
       "</style>\n",
       "<table border=\"1\" class=\"dataframe\">\n",
       "  <thead>\n",
       "    <tr style=\"text-align: right;\">\n",
       "      <th></th>\n",
       "      <th>text</th>\n",
       "      <th>date</th>\n",
       "      <th>meta_description</th>\n",
       "      <th>time_line</th>\n",
       "      <th>quarter</th>\n",
       "      <th>is_summary</th>\n",
       "      <th>text_length</th>\n",
       "      <th>article_id</th>\n",
       "      <th>freq</th>\n",
       "    </tr>\n",
       "  </thead>\n",
       "  <tbody>\n",
       "  </tbody>\n",
       "</table>\n",
       "</div>"
      ],
      "text/plain": [
       "Empty DataFrame\n",
       "Columns: [text, date, meta_description, time_line, quarter, is_summary, text_length, article_id, freq]\n",
       "Index: []"
      ]
     },
     "execution_count": 9,
     "metadata": {},
     "output_type": "execute_result"
    }
   ],
   "source": [
    "articles[(articles['date'].dt.year == 2015) & (articles['quarter'] == 'q11_18')]"
   ]
  },
  {
   "cell_type": "code",
   "execution_count": 5,
   "metadata": {},
   "outputs": [
    {
     "data": {
      "image/png": "[encoded data removed]",
      "text/plain": [
       "<matplotlib.figure.Figure at 0x122141b38>"
      ]
     },
     "metadata": {},
     "output_type": "display_data"
    }
   ],
   "source": [
    "# Explore the distribution of number of words per article\n",
    "articles['text_length'] = articles['text'].apply(lambda x: len(x.split(\" \")))\n",
    "_=sns.distplot(articles['text_length'])\n",
    "_=plt.title(\"Distribution of the number of words per article\")"
   ]
  },
  {
   "cell_type": "markdown",
   "metadata": {},
   "source": [
    "It looks like there are two main types of articles, short ones of around 300 words and longer ones of around 700. We will get focused on the short ones in the sentiment analysis for performance reasons fixing the length threshold at 700 words."
   ]
  },
  {
   "cell_type": "code",
   "execution_count": 6,
   "metadata": {},
   "outputs": [],
   "source": [
    "articles_short = articles[articles[\"text_length\"] < 700].reset_index(drop=True)"
   ]
  },
  {
   "cell_type": "code",
   "execution_count": 7,
   "metadata": {},
   "outputs": [
    {
     "data": {
      "text/html": [
       "<div>\n",
       "<style scoped>\n",
       "    .dataframe tbody tr th:only-of-type {\n",
       "        vertical-align: middle;\n",
       "    }\n",
       "\n",
       "    .dataframe tbody tr th {\n",
       "        vertical-align: top;\n",
       "    }\n",
       "\n",
       "    .dataframe thead th {\n",
       "        text-align: right;\n",
       "    }\n",
       "</style>\n",
       "<table border=\"1\" class=\"dataframe\">\n",
       "  <thead>\n",
       "    <tr style=\"text-align: right;\">\n",
       "      <th></th>\n",
       "      <th>text</th>\n",
       "      <th>date</th>\n",
       "      <th>meta_description</th>\n",
       "      <th>time_line</th>\n",
       "      <th>quarter</th>\n",
       "      <th>is_summary</th>\n",
       "      <th>text_length</th>\n",
       "      <th>article_id</th>\n",
       "      <th>freq</th>\n",
       "    </tr>\n",
       "  </thead>\n",
       "  <tbody>\n",
       "    <tr>\n",
       "      <th>0</th>\n",
       "      <td>Die Offensive von Baschar al-Assad im Süden Sy...</td>\n",
       "      <td>2018-07-09</td>\n",
       "      <td>Syrien plant einen Angriff auf die Golanhöhen....</td>\n",
       "      <td>32080</td>\n",
       "      <td>q11_18</td>\n",
       "      <td>0</td>\n",
       "      <td>559</td>\n",
       "      <td>32080</td>\n",
       "      <td>0.011696</td>\n",
       "    </tr>\n",
       "    <tr>\n",
       "      <th>1</th>\n",
       "      <td>In der Debatte um die Asylpolitik in Deutschla...</td>\n",
       "      <td>2018-07-09</td>\n",
       "      <td>Entwicklungshilfeminister Gerd Müller (CSU) ha...</td>\n",
       "      <td>32071</td>\n",
       "      <td>q11_18</td>\n",
       "      <td>0</td>\n",
       "      <td>249</td>\n",
       "      <td>32071</td>\n",
       "      <td>0.012903</td>\n",
       "    </tr>\n",
       "    <tr>\n",
       "      <th>2</th>\n",
       "      <td>Wenige Tage vor dem EU-Ministertreffen in Inns...</td>\n",
       "      <td>2018-07-08</td>\n",
       "      <td>Italien weist bereits Schiffe von Hilfsorganis...</td>\n",
       "      <td>32062</td>\n",
       "      <td>q11_18</td>\n",
       "      <td>0</td>\n",
       "      <td>314</td>\n",
       "      <td>32062</td>\n",
       "      <td>0.018779</td>\n",
       "    </tr>\n",
       "    <tr>\n",
       "      <th>3</th>\n",
       "      <td>Der Vorwurf wiegt schwer: Niedersachsens Innen...</td>\n",
       "      <td>2018-07-08</td>\n",
       "      <td>Niedersachsens Innenminister Pistorius soll ei...</td>\n",
       "      <td>32056</td>\n",
       "      <td>q11_18</td>\n",
       "      <td>0</td>\n",
       "      <td>265</td>\n",
       "      <td>32056</td>\n",
       "      <td>0.013072</td>\n",
       "    </tr>\n",
       "    <tr>\n",
       "      <th>4</th>\n",
       "      <td>Liebe Abonnentin, lieber Abonnent,\\n\\nin unser...</td>\n",
       "      <td>2018-07-07</td>\n",
       "      <td>Deutschlands führende Nachrichtenseite. Alles ...</td>\n",
       "      <td>32033</td>\n",
       "      <td>q11_18</td>\n",
       "      <td>0</td>\n",
       "      <td>513</td>\n",
       "      <td>32033</td>\n",
       "      <td>0.010033</td>\n",
       "    </tr>\n",
       "  </tbody>\n",
       "</table>\n",
       "</div>"
      ],
      "text/plain": [
       "                                                text       date  \\\n",
       "0  Die Offensive von Baschar al-Assad im Süden Sy... 2018-07-09   \n",
       "1  In der Debatte um die Asylpolitik in Deutschla... 2018-07-09   \n",
       "2  Wenige Tage vor dem EU-Ministertreffen in Inns... 2018-07-08   \n",
       "3  Der Vorwurf wiegt schwer: Niedersachsens Innen... 2018-07-08   \n",
       "4  Liebe Abonnentin, lieber Abonnent,\\n\\nin unser... 2018-07-07   \n",
       "\n",
       "                                    meta_description  time_line quarter  \\\n",
       "0  Syrien plant einen Angriff auf die Golanhöhen....      32080  q11_18   \n",
       "1  Entwicklungshilfeminister Gerd Müller (CSU) ha...      32071  q11_18   \n",
       "2  Italien weist bereits Schiffe von Hilfsorganis...      32062  q11_18   \n",
       "3  Niedersachsens Innenminister Pistorius soll ei...      32056  q11_18   \n",
       "4  Deutschlands führende Nachrichtenseite. Alles ...      32033  q11_18   \n",
       "\n",
       "   is_summary  text_length  article_id      freq  \n",
       "0           0          559       32080  0.011696  \n",
       "1           0          249       32071  0.012903  \n",
       "2           0          314       32062  0.018779  \n",
       "3           0          265       32056  0.013072  \n",
       "4           0          513       32033  0.010033  "
      ]
     },
     "execution_count": 7,
     "metadata": {},
     "output_type": "execute_result"
    }
   ],
   "source": [
    "articles_short.head()"
   ]
  },
  {
   "cell_type": "code",
   "execution_count": 64,
   "metadata": {},
   "outputs": [
    {
     "name": "stdout",
     "output_type": "stream",
     "text": [
      "There are 2388 articles about migration with less than 700 words.\n"
     ]
    }
   ],
   "source": [
    "print(f\"There are {len(articles_short)} articles about migration with less than 700 words.\")"
   ]
  },
  {
   "cell_type": "markdown",
   "metadata": {},
   "source": [
    "### Select a set of 30 articles per quarter"
   ]
  },
  {
   "cell_type": "code",
   "execution_count": 120,
   "metadata": {},
   "outputs": [],
   "source": [
    "#articles_selected_ = extract_n_articles_and_translate(articles_short, n_pre_selected, n_articles, language)"
   ]
  },
  {
   "cell_type": "code",
   "execution_count": 71,
   "metadata": {},
   "outputs": [],
   "source": [
    "# Goole translate API can not translate all the artcles at once and therefore we need to run it several times\n",
    "if len(articles_selected_[articles_selected_[\"text_en\"].isnull()]) > 0:\n",
    "    # translate articles that for some reason were not translated\n",
    "    non_translated = articles_selected_[articles_selected_[\"text_en\"].isnull()]\n",
    "    non_translated[\"text_en\"] = non_translated[\"text\"].apply(lambda x: google_translator(x, language))\n",
    "    \n",
    "    translated = non_translated[non_translated['text_en'] != '']\n",
    "    \n",
    "    # update translations\n",
    "    articles_to_replace = translated.index.tolist()\n",
    "    for art in articles_to_replace:\n",
    "        articles_selected_.loc[art, \"text_en\"] =  translated.loc[art, \"text_en\"]"
   ]
  },
  {
   "cell_type": "code",
   "execution_count": 72,
   "metadata": {},
   "outputs": [
    {
     "data": {
      "text/html": [
       "<div>\n",
       "<style scoped>\n",
       "    .dataframe tbody tr th:only-of-type {\n",
       "        vertical-align: middle;\n",
       "    }\n",
       "\n",
       "    .dataframe tbody tr th {\n",
       "        vertical-align: top;\n",
       "    }\n",
       "\n",
       "    .dataframe thead th {\n",
       "        text-align: right;\n",
       "    }\n",
       "</style>\n",
       "<table border=\"1\" class=\"dataframe\">\n",
       "  <thead>\n",
       "    <tr style=\"text-align: right;\">\n",
       "      <th></th>\n",
       "      <th>text</th>\n",
       "      <th>date</th>\n",
       "      <th>meta_description</th>\n",
       "      <th>time_line</th>\n",
       "      <th>quarter</th>\n",
       "      <th>is_summary</th>\n",
       "      <th>text_length</th>\n",
       "      <th>article_id</th>\n",
       "      <th>freq</th>\n",
       "      <th>text_en</th>\n",
       "    </tr>\n",
       "  </thead>\n",
       "  <tbody>\n",
       "  </tbody>\n",
       "</table>\n",
       "</div>"
      ],
      "text/plain": [
       "Empty DataFrame\n",
       "Columns: [text, date, meta_description, time_line, quarter, is_summary, text_length, article_id, freq, text_en]\n",
       "Index: []"
      ]
     },
     "execution_count": 72,
     "metadata": {},
     "output_type": "execute_result"
    }
   ],
   "source": [
    "# ensure that all texts are translated\n",
    "articles_selected_[articles_selected_[\"text_en\"].isnull()]"
   ]
  },
  {
   "cell_type": "code",
   "execution_count": 90,
   "metadata": {},
   "outputs": [],
   "source": [
    "articles_selected_.to_csv(\"../../data/330_selected_art_translated.csv\", index=False, encoding='utf-8')"
   ]
  },
  {
   "cell_type": "markdown",
   "metadata": {},
   "source": [
    "#### Extract articles IDs of the analyzed articles to match sentiment to date"
   ]
  },
  {
   "cell_type": "code",
   "execution_count": 6,
   "metadata": {},
   "outputs": [],
   "source": [
    "articles_selected = pd.read_csv(\"../../data/330_selected_art_translated.csv\")\n",
    "articles_selected.date = articles_selected['date'].apply(lambda x: datetime.datetime.strptime(x, \"%Y-%m-%d\"))"
   ]
  },
  {
   "cell_type": "code",
   "execution_count": 10,
   "metadata": {},
   "outputs": [],
   "source": [
    "articles_sel_correct = articles_selected.loc[:,('date','quarter',\n",
    "                         'time_line','text_en')].rename(columns={'quarter':'wrong_q'}).merge(articles.loc[:,('date',\n",
    "                                         'quarter','time_line')],\n",
    "                                            left_on='time_line', right_on='time_line')"
   ]
  },
  {
   "cell_type": "code",
   "execution_count": 11,
   "metadata": {},
   "outputs": [
    {
     "data": {
      "text/html": [
       "<div>\n",
       "<style scoped>\n",
       "    .dataframe tbody tr th:only-of-type {\n",
       "        vertical-align: middle;\n",
       "    }\n",
       "\n",
       "    .dataframe tbody tr th {\n",
       "        vertical-align: top;\n",
       "    }\n",
       "\n",
       "    .dataframe thead th {\n",
       "        text-align: right;\n",
       "    }\n",
       "</style>\n",
       "<table border=\"1\" class=\"dataframe\">\n",
       "  <thead>\n",
       "    <tr style=\"text-align: right;\">\n",
       "      <th></th>\n",
       "      <th>date_x</th>\n",
       "      <th>wrong_q</th>\n",
       "      <th>time_line</th>\n",
       "      <th>text_en</th>\n",
       "      <th>date_y</th>\n",
       "      <th>quarter</th>\n",
       "    </tr>\n",
       "  </thead>\n",
       "  <tbody>\n",
       "  </tbody>\n",
       "</table>\n",
       "</div>"
      ],
      "text/plain": [
       "Empty DataFrame\n",
       "Columns: [date_x, wrong_q, time_line, text_en, date_y, quarter]\n",
       "Index: []"
      ]
     },
     "execution_count": 11,
     "metadata": {},
     "output_type": "execute_result"
    }
   ],
   "source": [
    "articles_sel_correct[(articles_sel_correct['date_x'].dt.year == 2015) & (articles_sel_correct['quarter'] == 'q11_18')]"
   ]
  },
  {
   "cell_type": "code",
   "execution_count": 20,
   "metadata": {},
   "outputs": [],
   "source": [
    "articles_sel_correct.to_csv(\"../../data/330_selected_art_translated_correct.csv\", index=False, encoding='utf-8')"
   ]
  },
  {
   "cell_type": "code",
   "execution_count": null,
   "metadata": {},
   "outputs": [],
   "source": []
  }
 ],
 "metadata": {
  "kernelspec": {
   "display_name": "Python 3",
   "language": "python",
   "name": "python3"
  },
  "language_info": {
   "codemirror_mode": {
    "name": "ipython",
    "version": 3
   },
   "file_extension": ".py",
   "mimetype": "text/x-python",
   "name": "python",
   "nbconvert_exporter": "python",
   "pygments_lexer": "ipython3",
   "version": "3.6.2"
  }
 },
 "nbformat": 4,
 "nbformat_minor": 2
}
