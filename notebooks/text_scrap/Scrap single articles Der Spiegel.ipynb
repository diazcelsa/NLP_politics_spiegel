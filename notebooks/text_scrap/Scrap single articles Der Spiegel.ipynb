{
 "cells": [
  {
   "cell_type": "markdown",
   "metadata": {},
   "source": [
    "# Scrap data from der Spiegel"
   ]
  },
  {
   "cell_type": "code",
   "execution_count": 1,
   "metadata": {
    "collapsed": true
   },
   "outputs": [],
   "source": [
    "from bs4 import BeautifulSoup\n",
    "import requests\n",
    "import pandas as pd\n",
    "from urllib.parse import urljoin\n",
    "import newspaper\n",
    "from newspaper import Article"
   ]
  },
  {
   "cell_type": "markdown",
   "metadata": {},
   "source": [
    "#### 1. Get list of articles available"
   ]
  },
  {
   "cell_type": "code",
   "execution_count": 2,
   "metadata": {
    "collapsed": true
   },
   "outputs": [],
   "source": [
    "spiegel_topics = ['http://spiegel.de/politik/',\n",
    "                  'http://spiegel.de/thema/meinung/',\n",
    "                  'http://spiegel.de/wirtschaft/',\n",
    "                  'http://spiegel.de/panorama/',\n",
    "                  'http://spiegel.de/sport/',\n",
    "                  'http://spiegel.de/kultur/',\n",
    "                  'http://spiegel.de/netzwelt/',\n",
    "                  'http://spiegel.de/wissenschaft/',\n",
    "                  'http://spiegel.de/gesundheit/']\n",
    "spiegel_url = 'http://spiegel.de'\n",
    "topics_de = ['politik', 'meinung', 'wirtschaft', 'panorama', 'sport', 'kultur', 'netzwelt', 'wissenschaft', 'gesundheit']\n",
    "topics_en = ['politics', 'opinion', 'economy', 'society', 'sport', 'culture', 'technology', 'science', 'health']\n",
    "website = 'http://spiegel.de/schlagzeilen'"
   ]
  },
  {
   "cell_type": "code",
   "execution_count": 3,
   "metadata": {
    "collapsed": true
   },
   "outputs": [],
   "source": [
    "def get_list_articles(website):\n",
    "    r = requests.get(website)\n",
    "    soup = BeautifulSoup((r.content), \"lxml\")\n",
    "\n",
    "    news_collection = []\n",
    "    div = soup.find(\"div\", {\"class\": \"schlagzeilen-content schlagzeilen-overview\"})\n",
    "    for a in div.find_all('a', title=True):\n",
    "        news = {}\n",
    "        news['title'] = a.text\n",
    "        news['topic'] = a.find_next_sibling('span').text\n",
    "        news['url'] = urljoin(website, a.get('href'))\n",
    "        news_collection.append(news)    \n",
    "    return news_collection    "
   ]
  },
  {
   "cell_type": "code",
   "execution_count": 4,
   "metadata": {
    "collapsed": true
   },
   "outputs": [],
   "source": [
    "news_collection = get_list_articles(website)"
   ]
  },
  {
   "cell_type": "code",
   "execution_count": 5,
   "metadata": {
    "collapsed": true
   },
   "outputs": [],
   "source": [
    "news_collection = pd.DataFrame.from_records(news_collection)"
   ]
  },
  {
   "cell_type": "code",
   "execution_count": 6,
   "metadata": {
    "collapsed": true
   },
   "outputs": [],
   "source": [
    "# add new fields\n",
    "news_collection['keywords'] = ''\n",
    "news_collection['meta_description'] = ''\n",
    "news_collection['text'] = ''"
   ]
  },
  {
   "cell_type": "code",
   "execution_count": 7,
   "metadata": {},
   "outputs": [
    {
     "data": {
      "text/html": [
       "<div>\n",
       "<style>\n",
       "    .dataframe thead tr:only-child th {\n",
       "        text-align: right;\n",
       "    }\n",
       "\n",
       "    .dataframe thead th {\n",
       "        text-align: left;\n",
       "    }\n",
       "\n",
       "    .dataframe tbody tr th {\n",
       "        vertical-align: top;\n",
       "    }\n",
       "</style>\n",
       "<table border=\"1\" class=\"dataframe\">\n",
       "  <thead>\n",
       "    <tr style=\"text-align: right;\">\n",
       "      <th></th>\n",
       "      <th>title</th>\n",
       "      <th>topic</th>\n",
       "      <th>url</th>\n",
       "      <th>keywords</th>\n",
       "      <th>meta_description</th>\n",
       "      <th>text</th>\n",
       "    </tr>\n",
       "  </thead>\n",
       "  <tbody>\n",
       "    <tr>\n",
       "      <th>0</th>\n",
       "      <td>Höhere Bußgelder: Bundesländer fordern abschre...</td>\n",
       "      <td>(Auto, 10:33)</td>\n",
       "      <td>http://spiegel.de/auto/aktuell/bussgeld-raser-...</td>\n",
       "      <td></td>\n",
       "      <td></td>\n",
       "      <td></td>\n",
       "    </tr>\n",
       "    <tr>\n",
       "      <th>1</th>\n",
       "      <td>Kanye Wests Twitter-Philosophie: \"Sei einfach ...</td>\n",
       "      <td>(Panorama, 10:19)</td>\n",
       "      <td>http://spiegel.de/panorama/leute/kanye-wests-t...</td>\n",
       "      <td></td>\n",
       "      <td></td>\n",
       "      <td></td>\n",
       "    </tr>\n",
       "  </tbody>\n",
       "</table>\n",
       "</div>"
      ],
      "text/plain": [
       "                                               title              topic  \\\n",
       "0  Höhere Bußgelder: Bundesländer fordern abschre...      (Auto, 10:33)   \n",
       "1  Kanye Wests Twitter-Philosophie: \"Sei einfach ...  (Panorama, 10:19)   \n",
       "\n",
       "                                                 url keywords  \\\n",
       "0  http://spiegel.de/auto/aktuell/bussgeld-raser-...            \n",
       "1  http://spiegel.de/panorama/leute/kanye-wests-t...            \n",
       "\n",
       "  meta_description text  \n",
       "0                        \n",
       "1                        "
      ]
     },
     "execution_count": 7,
     "metadata": {},
     "output_type": "execute_result"
    }
   ],
   "source": [
    "news_collection.head(2)"
   ]
  },
  {
   "cell_type": "markdown",
   "metadata": {},
   "source": [
    "#### 2. Get content of articles"
   ]
  },
  {
   "cell_type": "code",
   "execution_count": 8,
   "metadata": {
    "collapsed": true
   },
   "outputs": [],
   "source": [
    "def scrap_text_for_each_article(Series):\n",
    "    a = Article(Series['url'], language='de')\n",
    "    a.download()\n",
    "    a.parse()\n",
    "    #import pdb; pdb.set_trace()\n",
    "    Series['text'] = a.text\n",
    "    Series['keywords'] = a.keywords\n",
    "    Series['meta_description'] = a.meta_description\n",
    "    return Series"
   ]
  },
  {
   "cell_type": "code",
   "execution_count": 9,
   "metadata": {
    "collapsed": true
   },
   "outputs": [],
   "source": [
    "news_complete = news_collection.apply(lambda x: scrap_text_for_each_article(x), axis=1)"
   ]
  },
  {
   "cell_type": "code",
   "execution_count": 10,
   "metadata": {},
   "outputs": [
    {
     "data": {
      "text/html": [
       "<div>\n",
       "<style>\n",
       "    .dataframe thead tr:only-child th {\n",
       "        text-align: right;\n",
       "    }\n",
       "\n",
       "    .dataframe thead th {\n",
       "        text-align: left;\n",
       "    }\n",
       "\n",
       "    .dataframe tbody tr th {\n",
       "        vertical-align: top;\n",
       "    }\n",
       "</style>\n",
       "<table border=\"1\" class=\"dataframe\">\n",
       "  <thead>\n",
       "    <tr style=\"text-align: right;\">\n",
       "      <th></th>\n",
       "      <th>title</th>\n",
       "      <th>topic</th>\n",
       "      <th>url</th>\n",
       "      <th>keywords</th>\n",
       "      <th>meta_description</th>\n",
       "      <th>text</th>\n",
       "    </tr>\n",
       "  </thead>\n",
       "  <tbody>\n",
       "    <tr>\n",
       "      <th>0</th>\n",
       "      <td>Höhere Bußgelder: Bundesländer fordern abschre...</td>\n",
       "      <td>(Auto, 10:33)</td>\n",
       "      <td>http://spiegel.de/auto/aktuell/bussgeld-raser-...</td>\n",
       "      <td>[]</td>\n",
       "      <td>Die Bundesländer sprechen sich nach einem Medi...</td>\n",
       "      <td>Die Bundesländer setzen sich für höhere Bußgel...</td>\n",
       "    </tr>\n",
       "    <tr>\n",
       "      <th>1</th>\n",
       "      <td>Kanye Wests Twitter-Philosophie: \"Sei einfach ...</td>\n",
       "      <td>(Panorama, 10:19)</td>\n",
       "      <td>http://spiegel.de/panorama/leute/kanye-wests-t...</td>\n",
       "      <td>[]</td>\n",
       "      <td>Kanye West übt sich wieder in Twitterei. Nach ...</td>\n",
       "      <td>Ob ihm der öffentliche Trubel im Kardashian-Cl...</td>\n",
       "    </tr>\n",
       "    <tr>\n",
       "      <th>2</th>\n",
       "      <td>Stasi am Telefon: Die Tonspur der Schnüffelei</td>\n",
       "      <td>(einestages, 10:14)</td>\n",
       "      <td>http://spiegel.de/einestages/stasi-hoerspiel-d...</td>\n",
       "      <td>[]</td>\n",
       "      <td>Klicken, Knacken, Knistern und alle Facetten d...</td>\n",
       "      <td>\"Teilnehmer!\" Schon das allererste Wort des Ge...</td>\n",
       "    </tr>\n",
       "    <tr>\n",
       "      <th>3</th>\n",
       "      <td>Im Auto: Dreijährige schießt in USA auf schwan...</td>\n",
       "      <td>(Panorama, 09:05)</td>\n",
       "      <td>http://spiegel.de/panorama/justiz/usa-dreijaeh...</td>\n",
       "      <td>[]</td>\n",
       "      <td>Die Waffe lag geladen auf der Mittelkonsole: A...</td>\n",
       "      <td>In den USA hat ein dreijähriges Mädchen seine ...</td>\n",
       "    </tr>\n",
       "    <tr>\n",
       "      <th>4</th>\n",
       "      <td>Umstrittene neue Funktion: Was Facebooks Gesic...</td>\n",
       "      <td>(Netzwelt, 09:01)</td>\n",
       "      <td>http://spiegel.de/netzwelt/netzpolitik/faceboo...</td>\n",
       "      <td>[]</td>\n",
       "      <td>In den kommenden Wochen bietet Facebook seine ...</td>\n",
       "      <td>Facebook will Nutzern ein wenig mehr Kontrolle...</td>\n",
       "    </tr>\n",
       "  </tbody>\n",
       "</table>\n",
       "</div>"
      ],
      "text/plain": [
       "                                               title                topic  \\\n",
       "0  Höhere Bußgelder: Bundesländer fordern abschre...        (Auto, 10:33)   \n",
       "1  Kanye Wests Twitter-Philosophie: \"Sei einfach ...    (Panorama, 10:19)   \n",
       "2      Stasi am Telefon: Die Tonspur der Schnüffelei  (einestages, 10:14)   \n",
       "3  Im Auto: Dreijährige schießt in USA auf schwan...    (Panorama, 09:05)   \n",
       "4  Umstrittene neue Funktion: Was Facebooks Gesic...    (Netzwelt, 09:01)   \n",
       "\n",
       "                                                 url keywords  \\\n",
       "0  http://spiegel.de/auto/aktuell/bussgeld-raser-...       []   \n",
       "1  http://spiegel.de/panorama/leute/kanye-wests-t...       []   \n",
       "2  http://spiegel.de/einestages/stasi-hoerspiel-d...       []   \n",
       "3  http://spiegel.de/panorama/justiz/usa-dreijaeh...       []   \n",
       "4  http://spiegel.de/netzwelt/netzpolitik/faceboo...       []   \n",
       "\n",
       "                                    meta_description  \\\n",
       "0  Die Bundesländer sprechen sich nach einem Medi...   \n",
       "1  Kanye West übt sich wieder in Twitterei. Nach ...   \n",
       "2  Klicken, Knacken, Knistern und alle Facetten d...   \n",
       "3  Die Waffe lag geladen auf der Mittelkonsole: A...   \n",
       "4  In den kommenden Wochen bietet Facebook seine ...   \n",
       "\n",
       "                                                text  \n",
       "0  Die Bundesländer setzen sich für höhere Bußgel...  \n",
       "1  Ob ihm der öffentliche Trubel im Kardashian-Cl...  \n",
       "2  \"Teilnehmer!\" Schon das allererste Wort des Ge...  \n",
       "3  In den USA hat ein dreijähriges Mädchen seine ...  \n",
       "4  Facebook will Nutzern ein wenig mehr Kontrolle...  "
      ]
     },
     "execution_count": 10,
     "metadata": {},
     "output_type": "execute_result"
    }
   ],
   "source": [
    "news_complete.head()"
   ]
  },
  {
   "cell_type": "markdown",
   "metadata": {},
   "source": [
    "#### 3. Get comments from those articles"
   ]
  },
  {
   "cell_type": "code",
   "execution_count": 11,
   "metadata": {
    "collapsed": true
   },
   "outputs": [],
   "source": [
    "def get_comments_from_articles(list_articles):\n",
    "    comments = []\n",
    "    for article in list_articles:\n",
    "        soup = BeautifulSoup(requests.get(article).content)\n",
    "        article_comments = []\n",
    "        for comm in soup.select(\"div.article-comment-title\"):\n",
    "            try:\n",
    "                article_comments.append(comm.a.text.strip()+comm.find_next(\"div\", \"js-article-post-full-text\").text.strip())\n",
    "            except:\n",
    "                print(\"{} article comments not available.\".format(article))\n",
    "        article_comments = ', '.join(article_comments)\n",
    "        comments.append(article_comments)\n",
    "    return comments    "
   ]
  },
  {
   "cell_type": "code",
   "execution_count": 12,
   "metadata": {},
   "outputs": [
    {
     "name": "stderr",
     "output_type": "stream",
     "text": [
      "/Users/celsadiaz/.pyenv/versions/3.6.2/envs/wepublic/lib/python3.6/site-packages/bs4/__init__.py:181: UserWarning: No parser was explicitly specified, so I'm using the best available HTML parser for this system (\"lxml\"). This usually isn't a problem, but if you run this code on another system, or in a different virtual environment, it may use a different parser and behave differently.\n",
      "\n",
      "The code that caused this warning is on line 193 of the file /Users/celsadiaz/.pyenv/versions/3.6.2/lib/python3.6/runpy.py. To get rid of this warning, change code that looks like this:\n",
      "\n",
      " BeautifulSoup(YOUR_MARKUP})\n",
      "\n",
      "to this:\n",
      "\n",
      " BeautifulSoup(YOUR_MARKUP, \"lxml\")\n",
      "\n",
      "  markup_type=markup_type))\n"
     ]
    },
    {
     "name": "stdout",
     "output_type": "stream",
     "text": [
      "http://spiegel.de/einestages/stasi-hoerspiel-die-tonspur-der-schnueffelei-a-1202363.html article comments not available.\n",
      "http://spiegel.de/einestages/street-photography-aus-new-york-wie-carrie-boretz-ihre-stadt-sieht-a-1187940.html article comments not available.\n",
      "http://spiegel.de/einestages/street-photography-aus-new-york-wie-carrie-boretz-ihre-stadt-sieht-a-1187940.html article comments not available.\n",
      "http://spiegel.de/einestages/street-photography-aus-new-york-wie-carrie-boretz-ihre-stadt-sieht-a-1187940.html article comments not available.\n",
      "http://spiegel.de/einestages/street-photography-aus-new-york-wie-carrie-boretz-ihre-stadt-sieht-a-1187940.html article comments not available.\n"
     ]
    }
   ],
   "source": [
    "comments = get_comments_from_articles(news_complete.url.tolist())"
   ]
  },
  {
   "cell_type": "code",
   "execution_count": 13,
   "metadata": {
    "collapsed": true
   },
   "outputs": [],
   "source": [
    "news_complete['comments'] = comments"
   ]
  },
  {
   "cell_type": "code",
   "execution_count": 14,
   "metadata": {
    "collapsed": true
   },
   "outputs": [],
   "source": [
    "news_complete.to_pickle('../../data/news_complete_19_04_19.pkl')"
   ]
  },
  {
   "cell_type": "markdown",
   "metadata": {},
   "source": []
  },
  {
   "cell_type": "code",
   "execution_count": null,
   "metadata": {
    "collapsed": true
   },
   "outputs": [],
   "source": []
  }
 ],
 "metadata": {
  "kernelspec": {
   "display_name": "Python 3",
   "language": "python",
   "name": "python3"
  },
  "language_info": {
   "codemirror_mode": {
    "name": "ipython",
    "version": 3
   },
   "file_extension": ".py",
   "mimetype": "text/x-python",
   "name": "python",
   "nbconvert_exporter": "python",
   "pygments_lexer": "ipython3",
   "version": "3.6.2"
  }
 },
 "nbformat": 4,
 "nbformat_minor": 2
}
