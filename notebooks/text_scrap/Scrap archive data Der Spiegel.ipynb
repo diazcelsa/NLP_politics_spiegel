{
 "cells": [
  {
   "cell_type": "markdown",
   "metadata": {},
   "source": [
    "# Scrap data from der Spiegel archive"
   ]
  },
  {
   "cell_type": "code",
   "execution_count": 1,
   "metadata": {},
   "outputs": [],
   "source": [
    "import re\n",
    "import datetime\n",
    "from bs4 import BeautifulSoup\n",
    "import requests\n",
    "import pandas as pd\n",
    "from urllib.parse import urljoin\n",
    "import newspaper\n",
    "from newspaper import Article"
   ]
  },
  {
   "cell_type": "markdown",
   "metadata": {},
   "source": [
    "#### 1. Get articles content in the field of politic since Feb 2015 (the refugee crisis)"
   ]
  },
  {
   "cell_type": "code",
   "execution_count": 2,
   "metadata": {},
   "outputs": [],
   "source": [
    "base = datetime.datetime.strptime('10.07.2018', \"%d.%m.%Y\") # since '11.02.2015'\n",
    "date_list = [(base - datetime.timedelta(days=x)).strftime(\"%d.%m.%Y\") for x in range(1, 1245)]"
   ]
  },
  {
   "cell_type": "code",
   "execution_count": 3,
   "metadata": {},
   "outputs": [],
   "source": [
    "def get_list_articles(website):\n",
    "    r = requests.get(website)\n",
    "    soup = BeautifulSoup((r.content), \"lxml\")\n",
    "\n",
    "    news_collection = []\n",
    "    div = soup.find(\"div\", {\"class\": \"column-wide\"})\n",
    "    #import pdb; pdb.set_trace()\n",
    "    for a in div.find_all('a', href=True):\n",
    "        url_article = a.get('href')\n",
    "        if re.search(\"politik\",url_article):\n",
    "            url = urljoin(\"http://www.spiegel.de\", url_article)\n",
    "            news_collection.append(url)\n",
    "    return pd.Series(news_collection)\n",
    "\n",
    "def scrap_text_for_each_article(url, date):\n",
    "    try:\n",
    "        a = Article(url, language='de')\n",
    "        a.download()\n",
    "        a.parse()\n",
    "        #import pdb; pdb.set_trace()\n",
    "        Series = pd.Series()\n",
    "        Series['text'] = a.text\n",
    "        Series['date'] = date\n",
    "        Series['meta_description'] = a.meta_description\n",
    "        return Series\n",
    "    except:\n",
    "        print(\"Article {} not available.\".format(url))"
   ]
  },
  {
   "cell_type": "code",
   "execution_count": 4,
   "metadata": {},
   "outputs": [
    {
     "name": "stdout",
     "output_type": "stream",
     "text": [
      "You must `download()` an article first!\n",
      "Article http://www.bento.de/politik/rassismus-so-gehen-junge-deutsche-damit-um-2044750/#refsponi not available.\n",
      "You must `download()` an article first!\n",
      "Article http://www.bento.de/politik/aegypten-auswaertiges-amt-warnt-vor-schwulenverfolgung-1791280/#refsponi not available.\n",
      "You must `download()` an article first!\n",
      "Article http://www.bento.de/politik/marokko-wie-marokkaner-die-proteste-in-rabat-tanger-casablanca-und-fes-erleben-1556388/#refsponi not available.\n",
      "Article `download()` failed with 404 Client Error: Not Found for url: http://www.bento.de/politik/regensburg-kneipen-in-bayern-entscheiden-sich-fuer-ein-verbot-von-junggesellenabschieden-1391251/#refsponi on URL http://www.bento.de/politik/regensburg-kneipen-in-bayern-entscheiden-sich-fuer-ein-verbot-von-junggesellenabschieden-1391251/#refsponi\n",
      "Article http://www.bento.de/politik/regensburg-kneipen-in-bayern-entscheiden-sich-fuer-ein-verbot-von-junggesellenabschieden-1391251/#refsponi not available.\n",
      "You must `download()` an article first!\n",
      "Article http://www.bento.de/politik/junge-trump-waehler-wie-denken-sie-jetzt-ueber-donald-trump-1199857/#ref=ressortblock not available.\n",
      "You must `download()` an article first!\n",
      "Article http://www.bento.de/politik/schluss-mit-yolocaust-ich-kann-keine-dachau-selfies-mehr-sehen-1133630/#refsponi not available.\n",
      "You must `download()` an article first!\n",
      "Article http://www.spiegel.de/politik/deutschland/horst-seehofer-droht-friedensgipfel-mit-cdu-platzen-zu-lassen-a-1127874.html not available.\n",
      "You must `download()` an article first!\n",
      "Article http://www.spiegel.de/politik/deutschland/irakkrieg-verwaltungsgericht-lehnt-asylantrag-von-us-deserteur-ab-a-1121785.html not available.\n",
      "You must `download()` an article first!\n",
      "Article http://www.spiegel.de/politik/ausland/hillary-clinton-ich-wollte-mich-verkriechen-a-1121673.html not available.\n",
      "You must `download()` an article first!\n",
      "Article http://www.bento.de/politik/paris-ein-jahr-nach-bataclan-sprechen-junge-franzosen-ueber-ihre-erlebnisse-995128/#refsponi not available.\n",
      "You must `download()` an article first!\n",
      "Article http://www.bento.de/politik/martin-schulz-der-eu-parlamentspraesident-ueber-die-afd-fluechtlinge-und-den-brexit-990578/#refsponi not available.\n",
      "You must `download()` an article first!\n",
      "Article http://www.spiegel.de/politik/ausland/guatemala-ex-minister-stirbt-bei-polizeieinsatz-a-1118854.html not available.\n",
      "You must `download()` an article first!\n",
      "Article http://www.spiegel.de/politik/deutschland/angela-merkel-faehrt-nicht-zum-csu-parteitag-a-1118839.html not available.\n",
      "Article `download()` failed with 404 Client Error: Not Found for url: http://www.bento.de/politik/raj-ist-von-sri-lanka-nach-dortmund-geflohen-ueber-das-leben-eines-fluechtlings-in-deutschland-930616/#refsponi on URL http://www.bento.de/politik/raj-ist-von-sri-lanka-nach-dortmund-geflohen-ueber-das-leben-eines-fluechtlings-in-deutschland-930616/#refsponi\n",
      "Article http://www.bento.de/politik/raj-ist-von-sri-lanka-nach-dortmund-geflohen-ueber-das-leben-eines-fluechtlings-in-deutschland-930616/#refsponi not available.\n",
      "You must `download()` an article first!\n",
      "Article http://www.spiegel.de/politik/ausland/syrien-luftangriff-toetet-vier-mitarbeiter-von-aerzte-hilfsorganisation-a-1113199.html not available.\n",
      "You must `download()` an article first!\n",
      "Article http://www.spiegel.de/politik/ausland/oesterreich-skurriler-sieg-des-rechtsstaats-kommentar-a-1100915.html not available.\n",
      "You must `download()` an article first!\n",
      "Article http://www.bento.de/politik/wahl-sterreich-was-denken-junge-menschen-ueber-norbert-hofer-und-van-der-bellen-582142/#ref=ressortblock not available.\n",
      "You must `download()` an article first!\n",
      "Article http://www.bento.de/politik/eine-frau-aus-frankreich-hilft-fluechtlingen-im-libanon-warum-sie-unser-vorbild-sein-sollte-561205/#refsponi not available.\n",
      "You must `download()` an article first!\n",
      "Article http://www.bento.de/politik/maximilianeum-in-muenchen-wie-lebt-es-sich-in-deutschlands-exklusivstem-studentenwohnheim-544160/#refsponi not available.\n",
      "You must `download()` an article first!\n",
      "Article http://www.bento.de/politik/islamischer-staat-us-soldat-verklagt-barack-obama-wegen-kampf-gegen-den-is-547541/#refsponi not available.\n",
      "You must `download()` an article first!\n",
      "Article http://www.bento.de/politik/exorzismus-in-gypten-wie-der-glaube-an-geister-in-kairo-christen-und-muslime-zusammenbringt-530251/#refsponi not available.\n",
      "You must `download()` an article first!\n",
      "Article http://www.bento.de/politik/tunesien-wie-junge-tunesier-ihr-land-nach-dem-arabischen-fruehling-betrachten-490015/#refsponi not available.\n",
      "You must `download()` an article first!\n",
      "Article http://www.bento.de/politik/be-deutsch-was-wir-wirklich-aus-boehmermanns-video-lernen-sollten-468049/#refsponi not available.\n",
      "You must `download()` an article first!\n",
      "Article http://www.bento.de/politik/fluechtlinge-fordern-sichere-routen-bei-europaweiter-demo-375495/#refsponi not available.\n",
      "You must `download()` an article first!\n",
      "Article http://www.bento.de/politik/volksabstimmung-in-der-schweiz-was-sagen-junge-schweizer-zur-svp-374844/#refsponi not available.\n",
      "You must `download()` an article first!\n",
      "Article http://www.spiegel.de/politik/deutschland/bundeswehr-awacs-fragen-und-antworten-zum-tuerkei-einsatz-a-1069684.html not available.\n"
     ]
    }
   ],
   "source": [
    "articles = []\n",
    "for date in date_list:\n",
    "    website = 'http://www.spiegel.de/nachrichtenarchiv/artikel-{}.html'.format(date)\n",
    "    news_collection = get_list_articles(website)\n",
    "    news_complete = pd.concat([scrap_text_for_each_article(x, date) for x in news_collection],axis=1).T\n",
    "    articles.append(news_complete)"
   ]
  },
  {
   "cell_type": "code",
   "execution_count": 5,
   "metadata": {},
   "outputs": [],
   "source": [
    "pd.concat(articles).to_csv(\"../data/articles_politic_all.csv\", index=False, encoding=\"utf-8\")"
   ]
  },
  {
   "cell_type": "markdown",
   "metadata": {},
   "source": [
    "#### 2. Build complete dataset"
   ]
  },
  {
   "cell_type": "markdown",
   "metadata": {
    "collapsed": true
   },
   "source": [
    "* expecting 800000 rows for 3 years politics articles -> 717452 rows in total in the csvs\n",
    "* 32028 articles in total"
   ]
  },
  {
   "cell_type": "code",
   "execution_count": 122,
   "metadata": {},
   "outputs": [],
   "source": [
    "list_source = [\"../../data/articles_politic_1.csv\",\"../../data/articles_politic_2.csv\",\"../../data/articles_politic_3.csv\",\n",
    "              \"../../data/articles_politic_4.csv\",\"../../data/articles_politic_5.csv\",\"../../data/articles_politic_6.csv\",\n",
    "              \"../../../data/articles_politic_7.csv\",\"../../../data/articles_politic_8.csv\",\"../../data/articles_politic_9.csv\",\n",
    "              \"../../data/articles_politic_10.csv\",\"../../data/articles_politic_11.csv\",\"../../data/articles_politic_12.csv\"]\n",
    "dfs = []\n",
    "for file in list_source:\n",
    "    df = pd.read_csv(file)\n",
    "    dfs.append(df)\n",
    "    \n",
    "all_articles = pd.concat(dfs)"
   ]
  },
  {
   "cell_type": "code",
   "execution_count": 127,
   "metadata": {},
   "outputs": [],
   "source": [
    "all_articles.loc[:,(\"text\",\"meta_description\")].to_csv(\"../../data/articles_politic_complete_02_15.csv\",\n",
    "                                                      index=False, encoding=\"utf-8\")"
   ]
  },
  {
   "cell_type": "code",
   "execution_count": 128,
   "metadata": {},
   "outputs": [
    {
     "data": {
      "text/html": [
       "<div>\n",
       "<style scoped>\n",
       "    .dataframe tbody tr th:only-of-type {\n",
       "        vertical-align: middle;\n",
       "    }\n",
       "\n",
       "    .dataframe tbody tr th {\n",
       "        vertical-align: top;\n",
       "    }\n",
       "\n",
       "    .dataframe thead th {\n",
       "        text-align: right;\n",
       "    }\n",
       "</style>\n",
       "<table border=\"1\" class=\"dataframe\">\n",
       "  <thead>\n",
       "    <tr style=\"text-align: right;\">\n",
       "      <th></th>\n",
       "      <th>text</th>\n",
       "      <th>meta_description</th>\n",
       "    </tr>\n",
       "  </thead>\n",
       "  <tbody>\n",
       "    <tr>\n",
       "      <th>0</th>\n",
       "      <td>Die britische Premierministerin Theresa May ha...</td>\n",
       "      <td>Theresa May steht unter Druck: Die Minister Bo...</td>\n",
       "    </tr>\n",
       "    <tr>\n",
       "      <th>1</th>\n",
       "      <td>hier finden Sie die wichtigsten Nachrichten de...</td>\n",
       "      <td>Deutschlands führende Nachrichtenseite. Alles ...</td>\n",
       "    </tr>\n",
       "    <tr>\n",
       "      <th>2</th>\n",
       "      <td>An einem Tag hat die britische Premierminister...</td>\n",
       "      <td>An einem Tag hat die britische Premierminister...</td>\n",
       "    </tr>\n",
       "    <tr>\n",
       "      <th>3</th>\n",
       "      <td>Auf diesen Moment hat Recep Tayyip Erdogan jah...</td>\n",
       "      <td>Zwei Wochen nach den Wahlen in der Türkei hat ...</td>\n",
       "    </tr>\n",
       "    <tr>\n",
       "      <th>4</th>\n",
       "      <td>Erst Brexit-Minister David Davis, nun auch der...</td>\n",
       "      <td>Der britische Außenminister und strikte Brexit...</td>\n",
       "    </tr>\n",
       "  </tbody>\n",
       "</table>\n",
       "</div>"
      ],
      "text/plain": [
       "                                                text  \\\n",
       "0  Die britische Premierministerin Theresa May ha...   \n",
       "1  hier finden Sie die wichtigsten Nachrichten de...   \n",
       "2  An einem Tag hat die britische Premierminister...   \n",
       "3  Auf diesen Moment hat Recep Tayyip Erdogan jah...   \n",
       "4  Erst Brexit-Minister David Davis, nun auch der...   \n",
       "\n",
       "                                    meta_description  \n",
       "0  Theresa May steht unter Druck: Die Minister Bo...  \n",
       "1  Deutschlands führende Nachrichtenseite. Alles ...  \n",
       "2  An einem Tag hat die britische Premierminister...  \n",
       "3  Zwei Wochen nach den Wahlen in der Türkei hat ...  \n",
       "4  Der britische Außenminister und strikte Brexit...  "
      ]
     },
     "execution_count": 128,
     "metadata": {},
     "output_type": "execute_result"
    }
   ],
   "source": [
    "all_articles.loc[:,(\"text\",\"meta_description\")].head()"
   ]
  },
  {
   "cell_type": "code",
   "execution_count": null,
   "metadata": {},
   "outputs": [],
   "source": []
  }
 ],
 "metadata": {
  "kernelspec": {
   "display_name": "Python 3",
   "language": "python",
   "name": "python3"
  },
  "language_info": {
   "codemirror_mode": {
    "name": "ipython",
    "version": 3
   },
   "file_extension": ".py",
   "mimetype": "text/x-python",
   "name": "python",
   "nbconvert_exporter": "python",
   "pygments_lexer": "ipython3",
   "version": "3.6.2"
  }
 },
 "nbformat": 4,
 "nbformat_minor": 2
}
